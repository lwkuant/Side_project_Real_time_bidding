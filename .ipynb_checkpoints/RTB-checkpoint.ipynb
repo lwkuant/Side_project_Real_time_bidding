{
 "cells": [
  {
   "cell_type": "markdown",
   "metadata": {},
   "source": [
    "## Setup"
   ]
  },
  {
   "cell_type": "code",
   "execution_count": 1,
   "metadata": {
    "collapsed": true
   },
   "outputs": [],
   "source": [
    "### Load required packages \n",
    "import pandas as pd \n",
    "import numpy as np\n",
    "import scipy as sp \n",
    "import matplotlib.pyplot as plt \n",
    "%matplotlib inline \n",
    "import seaborn as sns\n",
    "\n",
    "seed = 100"
   ]
  },
  {
   "cell_type": "code",
   "execution_count": 2,
   "metadata": {
    "collapsed": true
   },
   "outputs": [],
   "source": [
    "### Load the dataset\n",
    "df = pd.read_csv('D:/Dataset/Side_project_Real_time_bidding/biddings.csv')"
   ]
  },
  {
   "cell_type": "code",
   "execution_count": 3,
   "metadata": {
    "collapsed": false
   },
   "outputs": [
    {
     "name": "stdout",
     "output_type": "stream",
     "text": [
      "(1000000, 89)\n"
     ]
    }
   ],
   "source": [
    "### Overview\n",
    "print(df.shape)"
   ]
  },
  {
   "cell_type": "code",
   "execution_count": 4,
   "metadata": {
    "collapsed": false,
    "scrolled": false
   },
   "outputs": [
    {
     "name": "stdout",
     "output_type": "stream",
     "text": [
      "0          0.0\n",
      "1          0.0\n",
      "2          0.0\n",
      "3          0.0\n",
      "4          0.0\n",
      "5          0.0\n",
      "6          0.0\n",
      "7          0.0\n",
      "8          0.0\n",
      "9          0.0\n",
      "10         0.0\n",
      "11         0.0\n",
      "12         0.0\n",
      "13         0.0\n",
      "14         0.0\n",
      "15         0.0\n",
      "16         0.0\n",
      "17         0.0\n",
      "18         0.0\n",
      "19         0.0\n",
      "20         0.0\n",
      "21         0.0\n",
      "22         0.0\n",
      "23         0.0\n",
      "24         0.0\n",
      "25         0.0\n",
      "26         0.0\n",
      "27         0.0\n",
      "28         0.0\n",
      "29         0.0\n",
      "          ... \n",
      "59         0.0\n",
      "60         0.0\n",
      "61         0.0\n",
      "62         0.0\n",
      "63         0.0\n",
      "64         0.0\n",
      "65         0.0\n",
      "66         0.0\n",
      "67         0.0\n",
      "68         0.0\n",
      "69         0.0\n",
      "70         0.0\n",
      "71         0.0\n",
      "72         0.0\n",
      "73         0.0\n",
      "74         0.0\n",
      "75         0.0\n",
      "76         0.0\n",
      "77         0.0\n",
      "78         0.0\n",
      "79         0.0\n",
      "80         0.0\n",
      "81         0.0\n",
      "82         0.0\n",
      "83         0.0\n",
      "84         0.0\n",
      "85         0.0\n",
      "86         0.0\n",
      "87         0.0\n",
      "convert    0.0\n",
      "dtype: float64\n",
      "[]\n"
     ]
    }
   ],
   "source": [
    "# Check for NAs\n",
    "print(np.sum(df.isnull())/len(df))\n",
    "print(np.argwhere(np.sum(df.isnull())/len(df) > 0)) # there is no column with NAs"
   ]
  },
  {
   "cell_type": "markdown",
   "metadata": {},
   "source": [
    "There is no column with NAs"
   ]
  },
  {
   "cell_type": "code",
   "execution_count": 5,
   "metadata": {
    "collapsed": false
   },
   "outputs": [
    {
     "name": "stdout",
     "output_type": "stream",
     "text": [
      "0    998092\n",
      "1      1908\n",
      "Name: convert, dtype: int64\n",
      "0    99.8092\n",
      "1     0.1908\n",
      "Name: convert, dtype: float64\n"
     ]
    }
   ],
   "source": [
    "# Check the distribution of the target variable \n",
    "print(df['convert'].value_counts()) # the difference between classes is huge\n",
    "print(df['convert'].value_counts()/len(df)*100)  # the ratio in %"
   ]
  },
  {
   "cell_type": "markdown",
   "metadata": {},
   "source": [
    "The ratios of the two classes are very unbalanced."
   ]
  },
  {
   "cell_type": "markdown",
   "metadata": {},
   "source": [
    "#### Undersampling"
   ]
  },
  {
   "cell_type": "code",
   "execution_count": 68,
   "metadata": {
    "collapsed": false
   },
   "outputs": [
    {
     "name": "stdout",
     "output_type": "stream",
     "text": [
      "      0     1     2     3     4     5     6     7     8     9   ...       79  \\\n",
      "0 -0.02  2.82 -3.56 -0.10 -0.74  2.43  0.85 -1.15  0.03 -1.15   ...     0.20   \n",
      "1 -0.01  1.63  2.72 -0.15 -0.72 -0.05  0.09 -0.29  0.57 -0.22   ...    -0.10   \n",
      "2 -0.01  0.02  2.38 -0.36  0.37  0.09  0.02 -0.13  0.16  0.48   ...    -0.34   \n",
      "3 -0.02  2.41 -1.52 -0.83  1.08  0.18 -1.18  0.42 -0.28  0.09   ...     0.04   \n",
      "4  0.01 -3.12  2.05 -0.30  0.16  0.03 -0.00 -0.14  0.20  0.82   ...     0.41   \n",
      "\n",
      "     80    81    82    83    84    85    86    87  convert  \n",
      "0  0.43 -0.80 -0.45  0.07 -0.18  0.13  0.06  0.01        0  \n",
      "1 -0.27  0.38 -0.21  0.02 -0.32  1.64  0.70 -0.22        0  \n",
      "2  0.77  0.98  0.18 -0.92  0.05  0.46 -0.22  0.07        0  \n",
      "3 -0.42 -0.15  0.03  0.06  0.01 -0.05 -0.10  0.03        1  \n",
      "4 -0.88 -1.52 -1.39  0.59 -0.92  0.63 -1.24  0.37        1  \n",
      "\n",
      "[5 rows x 89 columns]\n",
      "1    1908\n",
      "0    1908\n",
      "Name: convert, dtype: int64\n"
     ]
    }
   ],
   "source": [
    "np.random.seed(seed)\n",
    "\n",
    "def under_samling(df, ratio=0.5): # ratio for the ratio of major class\n",
    "    \n",
    "    index = list(df['convert'][df['convert'] == 0].index)\n",
    "    \n",
    "    num_sample = (ratio/(1-ratio))*len(df['convert'][df['convert'] == 1])\n",
    "    num_sample = int(num_sample)\n",
    "    \n",
    "    index_random = np.random.choice(index, num_sample, replace=False)\n",
    "    \n",
    "    df_sample = pd.concat([df.ix[index_random, :], df.ix[(df['convert'] == 1), :]], axis=0)\n",
    "    \n",
    "    index_random_all = np.random.choice(list(df_sample.index), len(list(df_sample.index)), replace=False)\n",
    "    df_sample = df_sample.ix[index_random_all, :]\n",
    "\n",
    "    return df_sample\n",
    "\n",
    "df_tr = under_samling(df)\n",
    "df_tr.index = range(len(df_tr))\n",
    "print(df_tr.head())\n",
    "print(df_tr['convert'].value_counts())"
   ]
  },
  {
   "cell_type": "markdown",
   "metadata": {},
   "source": [
    "#### Train and Test split"
   ]
  },
  {
   "cell_type": "code",
   "execution_count": 69,
   "metadata": {
    "collapsed": false
   },
   "outputs": [
    {
     "name": "stdout",
     "output_type": "stream",
     "text": [
      "(3052, 89)\n",
      "(764, 89)\n"
     ]
    }
   ],
   "source": [
    "### train and test split \n",
    "from sklearn.model_selection import train_test_split\n",
    "df_tr, df_test = train_test_split(df_tr, test_size=0.2, stratify=df_tr['convert'])\n",
    "\n",
    "df_tr.index = range(len(df_tr))\n",
    "df_test.index = range(len(df_test))\n",
    "\n",
    "print(df_tr.shape)\n",
    "print(df_test.shape)"
   ]
  },
  {
   "cell_type": "markdown",
   "metadata": {},
   "source": [
    "## EDA"
   ]
  },
  {
   "cell_type": "markdown",
   "metadata": {},
   "source": [
    "#### Find important features"
   ]
  },
  {
   "cell_type": "code",
   "execution_count": 25,
   "metadata": {
    "collapsed": false
   },
   "outputs": [],
   "source": [
    "## using statistic tests\n",
    "from scipy.stats import f_oneway\n",
    "\n",
    "anova_dict = {}\n",
    "\n",
    "class_list = list(np.unique(df_tr['convert']))\n",
    "\n",
    "for feature in df_tr.columns[:-1]:\n",
    "    li_1 = list(df_tr[feature].values[df_tr['convert'].values == class_list[0]])\n",
    "    li_2 = list(df_tr[feature].values[df_tr['convert'].values == class_list[1]])\n",
    "    anova_dict[feature] = list(f_oneway(*[li_1, li_2]))"
   ]
  },
  {
   "cell_type": "code",
   "execution_count": 26,
   "metadata": {
    "collapsed": false
   },
   "outputs": [
    {
     "name": "stdout",
     "output_type": "stream",
     "text": [
      "['2', '1', '4', '7', '0', '56', '8', '13', '52', '23', '19', '11', '49', '45', '24', '43', '15', '42', '5', '72', '35', '60', '16', '73', '77', '34', '66', '57', '40', '30', '48', '75', '26', '47', '74', '62', '36', '53', '37', '83', '12', '41', '38', '61', '9', '32', '87', '58', '3', '59', '31', '63', '64', '28', '78', '10', '46', '51', '70', '14', '18', '79', '54', '85', '6', '17', '76', '33', '27', '21', '65', '81', '69', '20', '50', '55', '84', '71', '80', '68', '82', '67', '25', '86', '39', '22', '44', '29']\n"
     ]
    }
   ],
   "source": [
    "# return the outcome of features by its correlation with the target in descending order     \n",
    "print(sorted(anova_dict, key=anova_dict.get, reverse=True))"
   ]
  },
  {
   "cell_type": "code",
   "execution_count": 27,
   "metadata": {
    "collapsed": false
   },
   "outputs": [
    {
     "name": "stdout",
     "output_type": "stream",
     "text": [
      "['2', '1', '4', '7', '0', '56', '8', '13', '52', '23', '19', '11', '49', '45', '24', '43', '15', '42', '5', '72', '35', '60', '16', '73', '77', '34', '66', '57', '40']\n",
      "(3052, 29)\n"
     ]
    }
   ],
   "source": [
    "# return the pairs that have p-value less than 0.05\n",
    "good_features_list = [feature for feature in list(anova_dict.keys()) if anova_dict[feature][1]<0.05]\n",
    "print(sorted(good_features_list, key=lambda x: anova_dict[x][0], reverse=True))                      \n",
    "\n",
    "df_tr_filtered = df_tr.ix[:, good_features_list]\n",
    "print(df_tr_filtered.shape)"
   ]
  },
  {
   "cell_type": "code",
   "execution_count": 30,
   "metadata": {
    "collapsed": false
   },
   "outputs": [
    {
     "data": {
      "text/plain": [
       "<matplotlib.axes._subplots.AxesSubplot at 0x21ef77f9048>"
      ]
     },
     "execution_count": 30,
     "metadata": {},
     "output_type": "execute_result"
    },
    {
     "data": {
      "image/png": "[encoded data removed]",
      "text/plain": [
       "<matplotlib.figure.Figure at 0x21e812c1e48>"
      ]
     },
     "metadata": {},
     "output_type": "display_data"
    }
   ],
   "source": [
    "sns.heatmap(df_tr_filtered.corr())"
   ]
  },
  {
   "cell_type": "markdown",
   "metadata": {},
   "source": [
    "There seems to be some highly correlated features, they need to be removed."
   ]
  },
  {
   "cell_type": "markdown",
   "metadata": {},
   "source": [
    "#### Feature selection using PCA"
   ]
  },
  {
   "cell_type": "code",
   "execution_count": 66,
   "metadata": {
    "collapsed": false
   },
   "outputs": [
    {
     "name": "stdout",
     "output_type": "stream",
     "text": [
      "(3052, 22)\n"
     ]
    }
   ],
   "source": [
    "### Feature engineering \n",
    "\n",
    "## using PCA\n",
    "from sklearn.decomposition import PCA\n",
    "pca = PCA(0.95)\n",
    "df_tr_pca = pca.fit_transform(df_tr_filtered)\n",
    "\n",
    "df_tr_pca = pd.concat([pd.DataFrame(df_tr_pca), pd.DataFrame(df_tr['convert'])], axis=1)\n",
    "print(df_tr_pca.shape)"
   ]
  },
  {
   "cell_type": "code",
   "execution_count": 67,
   "metadata": {
    "collapsed": false
   },
   "outputs": [
    {
     "data": {
      "text/plain": [
       "<matplotlib.axes._subplots.AxesSubplot at 0x21f500a9ef0>"
      ]
     },
     "execution_count": 67,
     "metadata": {},
     "output_type": "execute_result"
    },
    {
     "data": {
      "image/png": "[encoded data removed]",
      "text/plain": [
       "<matplotlib.figure.Figure at 0x21f5002a470>"
      ]
     },
     "metadata": {},
     "output_type": "display_data"
    }
   ],
   "source": [
    "sns.heatmap(pd.DataFrame(df_tr_pca).corr())"
   ]
  },
  {
   "cell_type": "markdown",
   "metadata": {},
   "source": [
    "The correlations between each features are significantly lower."
   ]
  },
  {
   "cell_type": "markdown",
   "metadata": {},
   "source": [
    "## Modeling "
   ]
  },
  {
   "cell_type": "markdown",
   "metadata": {},
   "source": [
    "#### XGB"
   ]
  },
  {
   "cell_type": "code",
   "execution_count": 70,
   "metadata": {
    "collapsed": false
   },
   "outputs": [
    {
     "name": "stdout",
     "output_type": "stream",
     "text": [
      "[ 0.64946709  0.65918839  0.6374093   0.65030368  0.66553077]\n"
     ]
    }
   ],
   "source": [
    "from xgboost import XGBClassifier\n",
    "from sklearn.model_selection import cross_val_score\n",
    "\n",
    "X = df_tr_pca.ix[:, df_tr_pca.columns[:-1]].values\n",
    "y = df_tr_pca['convert'].values\n",
    "\n",
    "model = XGBClassifier(n_estimators=500)\n",
    "\n",
    "## Accuracy\n",
    "outcome = cross_val_score(model, X, y, scoring='roc_auc', cv=5, n_jobs=-1) # spend seconds\n",
    "print(outcome)"
   ]
  },
  {
   "cell_type": "code",
   "execution_count": 13,
   "metadata": {
    "collapsed": false
   },
   "outputs": [
    {
     "name": "stdout",
     "output_type": "stream",
     "text": [
      "execution time: 81.77171182632446\n",
      "done\n"
     ]
    }
   ],
   "source": [
    "### Grid search to choose the best model\n",
    "from xgboost import XGBClassifier\n",
    "from sklearn.model_selection import GridSearchCV\n",
    "\n",
    "X = df_tr_filtered.values\n",
    "y = df_tr['convert'].values\n",
    "\n",
    "param_grid = {'max_depth':[8, 10], 'colsample_bytree':[0.3, 0.5], 'learning_rate':[0.05, 0.1],\n",
    "              'min_child_weight':[0.5, 1]}\n",
    "model = XGBClassifier(n_estimators=500, seed = seed)\n",
    "grid = GridSearchCV(model, param_grid, cv=5, scoring='roc_auc')\n",
    "\n",
    "import time\n",
    "start_time = time.time()\n",
    "#grid.fit(X, y)\n",
    "print('execution time:', (time.time() - start_time))\n",
    "print('done')"
   ]
  },
  {
   "cell_type": "code",
   "execution_count": 14,
   "metadata": {
    "collapsed": false
   },
   "outputs": [
    {
     "name": "stdout",
     "output_type": "stream",
     "text": [
      "0.654163803688\n"
     ]
    }
   ],
   "source": [
    "print(grid.best_score_)"
   ]
  },
  {
   "cell_type": "markdown",
   "metadata": {},
   "source": [
    "#### Random Forest"
   ]
  },
  {
   "cell_type": "code",
   "execution_count": 76,
   "metadata": {
    "collapsed": false
   },
   "outputs": [
    {
     "name": "stdout",
     "output_type": "stream",
     "text": [
      "[ 0.66415161  0.67305563  0.64584252  0.64376243  0.65358775]\n"
     ]
    }
   ],
   "source": [
    "from sklearn.ensemble import RandomForestClassifier\n",
    "from sklearn.model_selection import cross_val_score\n",
    "\n",
    "X = df_tr_pca.ix[:, df_tr_pca.columns[:-1]].values\n",
    "y = df_tr_pca['convert'].values\n",
    "\n",
    "model = RandomForestClassifier(n_estimators=500)\n",
    "\n",
    "## ROC\n",
    "outcome = cross_val_score(model, X, y, scoring='roc_auc', cv=5, n_jobs=-1) # spend seconds\n",
    "print(outcome) "
   ]
  },
  {
   "cell_type": "code",
   "execution_count": 86,
   "metadata": {
    "collapsed": false
   },
   "outputs": [
    {
     "data": {
      "text/plain": [
       "RandomForestClassifier(bootstrap=True, class_weight=None, criterion='gini',\n",
       "            max_depth=10, max_features='auto', max_leaf_nodes=None,\n",
       "            min_impurity_split=1e-07, min_samples_leaf=1,\n",
       "            min_samples_split=2, min_weight_fraction_leaf=0.0,\n",
       "            n_estimators=500, n_jobs=1, oob_score=False, random_state=None,\n",
       "            verbose=0, warm_start=False)"
      ]
     },
     "execution_count": 86,
     "metadata": {},
     "output_type": "execute_result"
    }
   ],
   "source": [
    "model_rf = RandomForestClassifier(n_estimators=500, max_depth=10)\n",
    "model_rf.fit(X, y)"
   ]
  },
  {
   "cell_type": "code",
   "execution_count": 96,
   "metadata": {
    "collapsed": false
   },
   "outputs": [
    {
     "name": "stdout",
     "output_type": "stream",
     "text": [
      "execution time: 150.27035117149353\n",
      "done\n"
     ]
    }
   ],
   "source": [
    "param_grid = {'max_depth':[8, 10, 12], 'min_samples_leaf':[5, 10]}\n",
    "model = RandomForestClassifier(n_estimators=500, criterion='entropy', oob_score=True)\n",
    "grid_rf = GridSearchCV(model, param_grid, cv=5, scoring='roc_auc')\n",
    "\n",
    "import time\n",
    "start_time = time.time()\n",
    "grid_rf.fit(X, y)\n",
    "print('execution time:', (time.time() - start_time))\n",
    "print('done')"
   ]
  },
  {
   "cell_type": "code",
   "execution_count": 97,
   "metadata": {
    "collapsed": false
   },
   "outputs": [
    {
     "name": "stdout",
     "output_type": "stream",
     "text": [
      "0.681368037765\n"
     ]
    }
   ],
   "source": [
    "print(grid_rf.best_score_)"
   ]
  },
  {
   "cell_type": "code",
   "execution_count": 98,
   "metadata": {
    "collapsed": false
   },
   "outputs": [
    {
     "name": "stdout",
     "output_type": "stream",
     "text": [
      "{'min_samples_leaf': 5, 'max_depth': 8}\n"
     ]
    }
   ],
   "source": [
    "print(grid_rf.best_params_)"
   ]
  },
  {
   "cell_type": "markdown",
   "metadata": {},
   "source": [
    "#### Deep learning"
   ]
  },
  {
   "cell_type": "code",
   "execution_count": 72,
   "metadata": {
    "collapsed": false,
    "scrolled": true
   },
   "outputs": [
    {
     "name": "stdout",
     "output_type": "stream",
     "text": [
      "done\n"
     ]
    }
   ],
   "source": [
    "from keras.models import Sequential\n",
    "from keras.layers import Dense\n",
    "import numpy as np\n",
    "\n",
    "# fix the randoms seed for reproducibility \n",
    "seed = 100\n",
    "np.random.seed(seed)\n",
    "\n",
    "# split the dataset into X and y\n",
    "X = df_tr_pca.ix[:, df_tr_pca.columns[:-1]].values\n",
    "y = df_tr_pca['convert'].values\n",
    "\n",
    "# create model\n",
    "model = Sequential()\n",
    "model.add(Dense(12, input_dim=len(df_tr_pca.columns[:-1]), init='uniform', activation='relu'))\n",
    "model.add(Dense(8, init='uniform', activation='relu'))\n",
    "model.add(Dense(1, init='uniform', activation='sigmoid'))\n",
    "\n",
    "# Compile model\n",
    "model.compile(loss='binary_crossentropy', optimizer='adam', metrics=['accuracy'])\n",
    "\n",
    "# Fit the model\n",
    "model.fit(X, y, nb_epoch=200, batch_size=32, verbose=0)\n",
    "print('done')"
   ]
  },
  {
   "cell_type": "markdown",
   "metadata": {},
   "source": [
    "## Wrapper funtion"
   ]
  },
  {
   "cell_type": "markdown",
   "metadata": {},
   "source": [
    "#### Get ready for modeling"
   ]
  },
  {
   "cell_type": "code",
   "execution_count": 84,
   "metadata": {
    "collapsed": true
   },
   "outputs": [],
   "source": [
    "### preprocessing function\n",
    "def model_process(df, col_name = good_features_list):\n",
    "    \n",
    "    df = pd.concat([pd.DataFrame(pca.transform(df.ix[:, col_name])), df['convert']], axis=1)\n",
    "    \n",
    "    return df"
   ]
  },
  {
   "cell_type": "markdown",
   "metadata": {},
   "source": [
    "## Evaluation"
   ]
  },
  {
   "cell_type": "markdown",
   "metadata": {},
   "source": [
    "#### Transform test set"
   ]
  },
  {
   "cell_type": "code",
   "execution_count": null,
   "metadata": {
    "collapsed": true
   },
   "outputs": [],
   "source": [
    "df_test = model_process(df_test)"
   ]
  },
  {
   "cell_type": "code",
   "execution_count": 94,
   "metadata": {
    "collapsed": false
   },
   "outputs": [
    {
     "data": {
      "text/plain": [
       "(764, 22)"
      ]
     },
     "execution_count": 94,
     "metadata": {},
     "output_type": "execute_result"
    }
   ],
   "source": [
    "df_test.shape"
   ]
  },
  {
   "cell_type": "markdown",
   "metadata": {},
   "source": [
    "#### Deep Learning"
   ]
  },
  {
   "cell_type": "code",
   "execution_count": 75,
   "metadata": {
    "collapsed": false
   },
   "outputs": [
    {
     "name": "stdout",
     "output_type": "stream",
     "text": [
      "0.657006386886\n",
      "[[240 142]\n",
      " [154 228]]\n",
      "             precision    recall  f1-score   support\n",
      "\n",
      "          0       0.61      0.63      0.62       382\n",
      "          1       0.62      0.60      0.61       382\n",
      "\n",
      "avg / total       0.61      0.61      0.61       764\n",
      "\n"
     ]
    }
   ],
   "source": [
    "y_true = df_test['convert'].values\n",
    "X_test = df_test.ix[:, df_test.columns[:-1]].values\n",
    "y_pred_prob = model.predict_proba(X_test, verbose=0)\n",
    "y_pred = model.predict_classes(X_test, verbose=0)\n",
    "\n",
    "from sklearn.metrics import roc_auc_score\n",
    "from sklearn.metrics import confusion_matrix\n",
    "from sklearn.metrics import classification_report\n",
    "print(roc_auc_score(y_true, y_pred_prob))\n",
    "print(confusion_matrix(y_true, y_pred))\n",
    "print(classification_report(y_true, y_pred))"
   ]
  },
  {
   "cell_type": "markdown",
   "metadata": {
    "collapsed": false
   },
   "source": [
    "#### Random Forest"
   ]
  },
  {
   "cell_type": "code",
   "execution_count": 87,
   "metadata": {
    "collapsed": false
   },
   "outputs": [
    {
     "name": "stdout",
     "output_type": "stream",
     "text": [
      "0.671726378115\n",
      "[[244 138]\n",
      " [155 227]]\n",
      "             precision    recall  f1-score   support\n",
      "\n",
      "          0       0.61      0.64      0.62       382\n",
      "          1       0.62      0.59      0.61       382\n",
      "\n",
      "avg / total       0.62      0.62      0.62       764\n",
      "\n"
     ]
    }
   ],
   "source": [
    "### original model\n",
    "y_true = df_test['convert'].values\n",
    "X_test = df_test.ix[:, df_test.columns[:-1]].values\n",
    "y_pred_prob = model_rf.predict_proba(X_test)\n",
    "y_pred = model_rf.predict(X_test)\n",
    "\n",
    "from sklearn.metrics import roc_auc_score\n",
    "from sklearn.metrics import confusion_matrix\n",
    "from sklearn.metrics import classification_report\n",
    "print(roc_auc_score(y_true, y_pred_prob[:, 1]))\n",
    "print(confusion_matrix(y_true, y_pred))\n",
    "print(classification_report(y_true, y_pred))"
   ]
  },
  {
   "cell_type": "code",
   "execution_count": 99,
   "metadata": {
    "collapsed": false
   },
   "outputs": [
    {
     "name": "stdout",
     "output_type": "stream",
     "text": [
      "0.685432142759\n",
      "[[253 129]\n",
      " [155 227]]\n",
      "             precision    recall  f1-score   support\n",
      "\n",
      "          0       0.62      0.66      0.64       382\n",
      "          1       0.64      0.59      0.62       382\n",
      "\n",
      "avg / total       0.63      0.63      0.63       764\n",
      "\n"
     ]
    }
   ],
   "source": [
    "### Grid search model\n",
    "model_rf_grid = grid.best_estimator_\n",
    "\n",
    "y_true = df_test['convert'].values\n",
    "X_test = df_test.ix[:, df_test.columns[:-1]].values\n",
    "y_pred_prob = model_rf_grid.predict_proba(X_test)\n",
    "y_pred = model_rf_grid.predict(X_test)\n",
    "\n",
    "from sklearn.metrics import roc_auc_score\n",
    "from sklearn.metrics import confusion_matrix\n",
    "from sklearn.metrics import classification_report\n",
    "print(roc_auc_score(y_true, y_pred_prob[:, 1]))\n",
    "print(confusion_matrix(y_true, y_pred))\n",
    "print(classification_report(y_true, y_pred))"
   ]
  }
 ],
 "metadata": {
  "anaconda-cloud": {},
  "kernelspec": {
   "display_name": "Python 3",
   "language": "python",
   "name": "python3"
  },
  "language_info": {
   "codemirror_mode": {
    "name": "ipython",
    "version": 3
   },
   "file_extension": ".py",
   "mimetype": "text/x-python",
   "name": "python",
   "nbconvert_exporter": "python",
   "pygments_lexer": "ipython3",
   "version": "3.5.2"
  }
 },
 "nbformat": 4,
 "nbformat_minor": 2
}
